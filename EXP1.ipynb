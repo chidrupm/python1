{
 "cells": [
  {
   "cell_type": "code",
   "execution_count": 3,
   "metadata": {},
   "outputs": [
    {
     "name": "stdout",
     "output_type": "stream",
     "text": [
      "type a two digit number:67\n",
      "13\n"
     ]
    }
   ],
   "source": [
    "two_digit_number = input(\"type a two digit number:\")\n",
    "\n",
    "first_digit = two_digit_number[0]\n",
    "second_digit = two_digit_number[1]\n",
    "result = int(first_digit) + int(second_digit)\n",
    "print(result)"
   ]
  },
  {
   "cell_type": "code",
   "execution_count": 12,
   "metadata": {},
   "outputs": [
    {
     "name": "stdout",
     "output_type": "stream",
     "text": [
      "enter your heigth in m:1.76\n",
      "enter your weigth in kg:45\n",
      "14\n"
     ]
    }
   ],
   "source": [
    "height = input(\"enter your heigth in m:\")\n",
    "weight = input(\"enter your weigth in kg:\")\n",
    "bmi =  int(weight) / float(height) ** 2\n",
    "bmi_as_int = int(bmi)\n",
    "print(bmi_as_int)\n",
    "\n",
    "\n"
   ]
  },
  {
   "cell_type": "code",
   "execution_count": 13,
   "metadata": {},
   "outputs": [
    {
     "name": "stdout",
     "output_type": "stream",
     "text": [
      "1.0\n"
     ]
    }
   ],
   "source": [
    "result = 4 /2 \n",
    "\n",
    "result /= 2\n",
    "\n",
    "print(result)"
   ]
  },
  {
   "cell_type": "code",
   "execution_count": 16,
   "metadata": {},
   "outputs": [
    {
     "name": "stdout",
     "output_type": "stream",
     "text": [
      "your score is 0, your height is 1.8, you are isWinning is True\n"
     ]
    }
   ],
   "source": [
    "score = 0\n",
    "\n",
    "height =1.8\n",
    "\n",
    "isWinning = True\n",
    "\n",
    "print(f\"your score is {score}, your height is {height}, you are isWinning is {isWinning}\")"
   ]
  },
  {
   "cell_type": "code",
   "execution_count": 33,
   "metadata": {},
   "outputs": [
    {
     "name": "stdout",
     "output_type": "stream",
     "text": [
      "what is your current age?76\n",
      "you have 5110 days,728 weeks, 168 months.chidrup\n"
     ]
    }
   ],
   "source": [
    "age = input(\"what is your current age?\")\n",
    " \n",
    "age_as_int = int(age)\n",
    "\n",
    "years_remaining = 90 - age_as_int\n",
    "days_remaining = years_remaining * 365\n",
    "weeks_remaining = years_remaining * 52\n",
    "months_remaining = years_remaining * 12\n",
    "output=(f\"you have {days_remaining} days,{weeks_remaining} weeks, {months_remaining} months.\")\n",
    "print=input(output)\n",
    "\n"
   ]
  },
  {
   "cell_type": "code",
   "execution_count": 2,
   "metadata": {},
   "outputs": [
    {
     "name": "stdout",
     "output_type": "stream",
     "text": [
      "welcome to the tip calculator!\n",
      "what was the total bill?$70\n",
      "how much would you like to give6\n",
      "how many people to split the bill?3\n",
      "Each person should pay: $46.69\n"
     ]
    }
   ],
   "source": [
    "#if the bill was $150,split bill with 5 people,tip be 12%\n",
    "#each person should pay (150/5)*1.12 = 33.6\n",
    "#round the result to 2 decimal places = 33.6\n",
    "print(\"welcome to the tip calculator!\")\n",
    "bill = float(input(\"what was the total bill?$\"))\n",
    "tip = int(input(\"how much would you like to give\"))\n",
    "people = int(input(\"how many people to split the bill?\"))\n",
    "tip_as_percent = tip / 100\n",
    "total_tip_amount = bill + tip_as_percent\n",
    "total_bill = bill + total_tip_amount\n",
    "bill_per_person = total_bill / people\n",
    "final_amount = round(bill_per_person,2)\n",
    "print(f\"Each person should pay: ${final_amount}\")"
   ]
  },
  {
   "cell_type": "code",
   "execution_count": 2,
   "metadata": {},
   "outputs": [
    {
     "name": "stdout",
     "output_type": "stream",
     "text": [
      "welcome to the rollercoaster!\n",
      "what is your height in cm?74\n",
      "sorry,you have to grow taller before you can ride\n"
     ]
    }
   ],
   "source": [
    "print (\"welcome to the rollercoaster!\")\n",
    "height = int (input(\"what is your height in cm?\"))\n",
    "\n",
    "if height == 120:\n",
    "    print(\"you can ride the rollercoaster!\")\n",
    "    \n",
    "else:\n",
    "        print(\"sorry,you have to grow taller before you can ride\")"
   ]
  },
  {
   "cell_type": "code",
   "execution_count": null,
   "metadata": {},
   "outputs": [],
   "source": []
  }
 ],
 "metadata": {
  "kernelspec": {
   "display_name": "Python 3 (ipykernel)",
   "language": "python",
   "name": "python3"
  },
  "language_info": {
   "codemirror_mode": {
    "name": "ipython",
    "version": 3
   },
   "file_extension": ".py",
   "mimetype": "text/x-python",
   "name": "python",
   "nbconvert_exporter": "python",
   "pygments_lexer": "ipython3",
   "version": "3.11.7"
  }
 },
 "nbformat": 4,
 "nbformat_minor": 4
}
